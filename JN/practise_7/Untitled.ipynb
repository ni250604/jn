{
 "cells": [
  {
   "cell_type": "code",
   "execution_count": 1,
   "id": "4cf2b3da-c7a9-40b7-a67e-1ea5b454c71e",
   "metadata": {},
   "outputs": [
    {
     "name": "stderr",
     "output_type": "stream",
     "text": [
      "[nltk_data] Downloading package punkt to\n",
      "[nltk_data]     C:\\Users\\Dell\\AppData\\Roaming\\nltk_data...\n",
      "[nltk_data]   Package punkt is already up-to-date!\n",
      "[nltk_data] Downloading package stopwords to\n",
      "[nltk_data]     C:\\Users\\Dell\\AppData\\Roaming\\nltk_data...\n",
      "[nltk_data]   Package stopwords is already up-to-date!\n",
      "[nltk_data] Downloading package wordnet to\n",
      "[nltk_data]     C:\\Users\\Dell\\AppData\\Roaming\\nltk_data...\n",
      "[nltk_data]   Package wordnet is already up-to-date!\n",
      "[nltk_data] Downloading package averaged_perceptron_tagger to\n",
      "[nltk_data]     C:\\Users\\Dell\\AppData\\Roaming\\nltk_data...\n",
      "[nltk_data]   Package averaged_perceptron_tagger is already up-to-\n",
      "[nltk_data]       date!\n"
     ]
    },
    {
     "data": {
      "text/plain": [
       "True"
      ]
     },
     "execution_count": 1,
     "metadata": {},
     "output_type": "execute_result"
    }
   ],
   "source": [
    "import nltk\n",
    "nltk.download(\"punkt\")\n",
    "nltk.download(\"stopwords\")\n",
    "nltk.download(\"wordnet\")\n",
    "nltk.download(\"averaged_perceptron_tagger\")"
   ]
  },
  {
   "cell_type": "code",
   "execution_count": 2,
   "id": "3b9e19e5-7d10-4fb4-8024-754a9b9436ac",
   "metadata": {},
   "outputs": [],
   "source": [
    "from nltk import word_tokenize,sent_tokenize"
   ]
  },
  {
   "cell_type": "code",
   "execution_count": 3,
   "id": "4940f0e0-d849-477c-9c95-350272a26254",
   "metadata": {},
   "outputs": [
    {
     "name": "stdout",
     "output_type": "stream",
     "text": [
      "['Hi', ',', 'My', 'name', 'is', 'Nikita', 'Malik.Iam', 'from', 'Haryana', 'but', 'living', 'in', 'gujarat', 'from', 'last', '10', 'years', '.', 'I', 'love', 'to', 'eat', 'delicious', 'food', '.']\n",
      "['Hi,My name is Nikita Malik.Iam from Haryana but living in gujarat from last 10 years.', 'I love to eat delicious food.']\n"
     ]
    }
   ],
   "source": [
    "corpus=\"Hi,My name is Nikita Malik.Iam from Haryana but living in gujarat from last 10 years. I love to eat delicious food.\"\n",
    "print(word_tokenize(corpus))\n",
    "print(sent_tokenize(corpus))"
   ]
  },
  {
   "cell_type": "code",
   "execution_count": 4,
   "id": "7fcd30e4-907a-40c2-abf9-b751200a2e20",
   "metadata": {
    "scrolled": true
   },
   "outputs": [
    {
     "data": {
      "text/plain": [
       "[('Hi', 'NNP'),\n",
       " (',', ','),\n",
       " ('My', 'NNP'),\n",
       " ('name', 'NN'),\n",
       " ('is', 'VBZ'),\n",
       " ('Nikita', 'NNP'),\n",
       " ('Malik.Iam', 'NNP'),\n",
       " ('from', 'IN'),\n",
       " ('Haryana', 'NNP'),\n",
       " ('but', 'CC'),\n",
       " ('living', 'VBG'),\n",
       " ('in', 'IN'),\n",
       " ('gujarat', 'NN'),\n",
       " ('from', 'IN'),\n",
       " ('last', 'JJ'),\n",
       " ('10', 'CD'),\n",
       " ('years', 'NNS'),\n",
       " ('.', '.'),\n",
       " ('I', 'PRP'),\n",
       " ('love', 'VBP'),\n",
       " ('to', 'TO'),\n",
       " ('eat', 'VB'),\n",
       " ('delicious', 'JJ'),\n",
       " ('food', 'NN'),\n",
       " ('.', '.')]"
      ]
     },
     "execution_count": 4,
     "metadata": {},
     "output_type": "execute_result"
    }
   ],
   "source": [
    "from nltk import pos_tag\n",
    "tokens=word_tokenize(corpus)\n",
    "pos_tag(tokens)"
   ]
  },
  {
   "cell_type": "code",
   "execution_count": 5,
   "id": "b6342268-f8bc-4223-b091-e3021e9cbcda",
   "metadata": {},
   "outputs": [],
   "source": [
    "from nltk.corpus import stopwords"
   ]
  },
  {
   "cell_type": "code",
   "execution_count": 7,
   "id": "0516ae08-8661-48d6-978d-f9a85b2ae678",
   "metadata": {},
   "outputs": [],
   "source": [
    "stop_words=set(stopwords.words(\"english\"))"
   ]
  },
  {
   "cell_type": "code",
   "execution_count": 8,
   "id": "efca88e9-b644-4340-8105-ded34a78fd95",
   "metadata": {},
   "outputs": [
    {
     "name": "stdout",
     "output_type": "stream",
     "text": [
      "['Hi', ',', 'My', 'name', 'Nikita', 'Malik.Iam', 'Haryana', 'living', 'gujarat', 'last', '10', 'years', '.', 'I', 'love', 'eat', 'delicious', 'food', '.']\n"
     ]
    }
   ],
   "source": [
    "clean=[]\n",
    "for i in tokens:\n",
    "    if(i not in stop_words):\n",
    "        clean.append(i)\n",
    "print(clean)"
   ]
  },
  {
   "cell_type": "code",
   "execution_count": 9,
   "id": "07bf0f10-6920-4376-a1d8-bd3b182ab099",
   "metadata": {},
   "outputs": [],
   "source": [
    "from nltk.stem import PorterStemmer"
   ]
  },
  {
   "cell_type": "code",
   "execution_count": 11,
   "id": "15d8559c-35f4-4bba-b65e-cc9ac5734cc0",
   "metadata": {},
   "outputs": [
    {
     "name": "stdout",
     "output_type": "stream",
     "text": [
      "['Hi', ',', 'My', 'name', 'Nikita', 'Malik.Iam', 'Haryana', 'living', 'gujarat', 'last', '10', 'years', '.', 'I', 'love', 'eat', 'delicious', 'food', '.']\n"
     ]
    }
   ],
   "source": [
    "stem=PorterStemmer()\n",
    "s=[]\n",
    "for i in clean:\n",
    "    st=stem.stem(i)\n",
    "    s.append(i)\n",
    "print(s)"
   ]
  },
  {
   "cell_type": "code",
   "execution_count": 12,
   "id": "43763397-f3ba-418f-b5cd-721e5e55d9b4",
   "metadata": {},
   "outputs": [],
   "source": [
    "from nltk.stem import WordNetLemmatizer"
   ]
  },
  {
   "cell_type": "code",
   "execution_count": 13,
   "id": "4ccbdd81-5230-4dbf-90f5-f50e680196a9",
   "metadata": {},
   "outputs": [
    {
     "name": "stdout",
     "output_type": "stream",
     "text": [
      "['Hi', ',', 'My', 'name', 'Nikita', 'Malik.Iam', 'Haryana', 'living', 'gujarat', 'last', '10', 'year', '.', 'I', 'love', 'eat', 'delicious', 'food', '.']\n"
     ]
    }
   ],
   "source": [
    "lemma=WordNetLemmatizer()\n",
    "w=[]\n",
    "for i in clean:\n",
    "    l=lemma.lemmatize(i)\n",
    "    w.append(l)\n",
    "print(w)"
   ]
  },
  {
   "cell_type": "code",
   "execution_count": 15,
   "id": "4e2f338c-8283-4d52-b8f2-2e43da2c4862",
   "metadata": {},
   "outputs": [],
   "source": [
    "from sklearn.feature_extraction.text import TfidfVectorizer"
   ]
  },
  {
   "cell_type": "code",
   "execution_count": 16,
   "id": "bcc01405-e173-4aee-b940-3b3481585dab",
   "metadata": {},
   "outputs": [],
   "source": [
    "corpus=[\"Nikita. MALIK. HI\"]\n"
   ]
  },
  {
   "cell_type": "code",
   "execution_count": 18,
   "id": "49d5140f-3d1d-454c-8094-bbe00a847361",
   "metadata": {},
   "outputs": [
    {
     "data": {
      "text/plain": [
       "{'nikita': 2, 'malik': 1, 'hi': 0}"
      ]
     },
     "execution_count": 18,
     "metadata": {},
     "output_type": "execute_result"
    }
   ],
   "source": [
    "v=TfidfVectorizer()\n",
    "matrix=v.fit(corpus)\n",
    "v.vocabulary_"
   ]
  },
  {
   "cell_type": "code",
   "execution_count": 20,
   "id": "f35fae5e-4c6f-41ce-b8cb-7639d3257363",
   "metadata": {},
   "outputs": [
    {
     "name": "stdout",
     "output_type": "stream",
     "text": [
      "  (0, 2)\t0.5773502691896258\n",
      "  (0, 1)\t0.5773502691896258\n",
      "  (0, 0)\t0.5773502691896258\n"
     ]
    }
   ],
   "source": [
    "m=v.transform(corpus)\n",
    "print(m)"
   ]
  },
  {
   "cell_type": "code",
   "execution_count": 23,
   "id": "bb552edd-80fc-4986-8762-e4eec8886184",
   "metadata": {},
   "outputs": [
    {
     "name": "stdout",
     "output_type": "stream",
     "text": [
      "  (0, 0)\t0.5773502691896258\n",
      "  (0, 1)\t0.5773502691896258\n",
      "  (0, 2)\t0.5773502691896258\n"
     ]
    }
   ],
   "source": [
    "Tfidf=v.fit_transform(corpus)\n",
    "print(Tfidf)"
   ]
  },
  {
   "cell_type": "code",
   "execution_count": null,
   "id": "aab01cb9-f980-4e2e-a6b9-63c95ff7be36",
   "metadata": {},
   "outputs": [],
   "source": []
  }
 ],
 "metadata": {
  "kernelspec": {
   "display_name": "Python 3 (ipykernel)",
   "language": "python",
   "name": "python3"
  },
  "language_info": {
   "codemirror_mode": {
    "name": "ipython",
    "version": 3
   },
   "file_extension": ".py",
   "mimetype": "text/x-python",
   "name": "python",
   "nbconvert_exporter": "python",
   "pygments_lexer": "ipython3",
   "version": "3.10.6"
  }
 },
 "nbformat": 4,
 "nbformat_minor": 5
}
