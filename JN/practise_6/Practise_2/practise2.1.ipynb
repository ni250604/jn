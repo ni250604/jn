{
 "cells": [
  {
   "cell_type": "code",
   "execution_count": 1,
   "id": "516567bd-c554-41df-a1bd-47c6d150ebdd",
   "metadata": {},
   "outputs": [],
   "source": [
    "import numpy as np\n",
    "import pandas as pd\n",
    "import seaborn as sns\n",
    "from sklearn.preprocessing import StandardScaler"
   ]
  },
  {
   "cell_type": "code",
   "execution_count": 4,
   "id": "3bf77e31-e9cf-4356-94d6-489cf3a5345d",
   "metadata": {},
   "outputs": [],
   "source": [
    "d1={\n",
    "    \"Name\":pd.Series([\"Nikita\",\"Jayant\",\"Pisu\",\"Hritik\",\"isha\",\"Aakansha\"]),\n",
    "    \"Division\":pd.Series([\"A\",\"A\",\"B\",\"C\",\"D\",\"C\"]),\n",
    "    \"Marks1\":pd.Series([90,100,np.nan,86,92,12]),\n",
    "    \"Marks2\":pd.Series([91,10,81,2,20,np.nan])\n",
    "}\n",
    "data=pd.DataFrame(d1)"
   ]
  },
  {
   "cell_type": "code",
   "execution_count": 5,
   "id": "46525c72-0124-4e7b-8305-c27a43036efe",
   "metadata": {},
   "outputs": [
    {
     "data": {
      "text/html": [
       "<div>\n",
       "<style scoped>\n",
       "    .dataframe tbody tr th:only-of-type {\n",
       "        vertical-align: middle;\n",
       "    }\n",
       "\n",
       "    .dataframe tbody tr th {\n",
       "        vertical-align: top;\n",
       "    }\n",
       "\n",
       "    .dataframe thead th {\n",
       "        text-align: right;\n",
       "    }\n",
       "</style>\n",
       "<table border=\"1\" class=\"dataframe\">\n",
       "  <thead>\n",
       "    <tr style=\"text-align: right;\">\n",
       "      <th></th>\n",
       "      <th>Name</th>\n",
       "      <th>Division</th>\n",
       "      <th>Marks1</th>\n",
       "      <th>Marks2</th>\n",
       "    </tr>\n",
       "  </thead>\n",
       "  <tbody>\n",
       "    <tr>\n",
       "      <th>0</th>\n",
       "      <td>Nikita</td>\n",
       "      <td>A</td>\n",
       "      <td>90.0</td>\n",
       "      <td>91.0</td>\n",
       "    </tr>\n",
       "    <tr>\n",
       "      <th>1</th>\n",
       "      <td>Jayant</td>\n",
       "      <td>A</td>\n",
       "      <td>100.0</td>\n",
       "      <td>10.0</td>\n",
       "    </tr>\n",
       "    <tr>\n",
       "      <th>2</th>\n",
       "      <td>Pisu</td>\n",
       "      <td>B</td>\n",
       "      <td>NaN</td>\n",
       "      <td>81.0</td>\n",
       "    </tr>\n",
       "    <tr>\n",
       "      <th>3</th>\n",
       "      <td>Hritik</td>\n",
       "      <td>C</td>\n",
       "      <td>86.0</td>\n",
       "      <td>2.0</td>\n",
       "    </tr>\n",
       "    <tr>\n",
       "      <th>4</th>\n",
       "      <td>isha</td>\n",
       "      <td>D</td>\n",
       "      <td>92.0</td>\n",
       "      <td>20.0</td>\n",
       "    </tr>\n",
       "    <tr>\n",
       "      <th>5</th>\n",
       "      <td>Aakansha</td>\n",
       "      <td>C</td>\n",
       "      <td>12.0</td>\n",
       "      <td>NaN</td>\n",
       "    </tr>\n",
       "  </tbody>\n",
       "</table>\n",
       "</div>"
      ],
      "text/plain": [
       "       Name Division  Marks1  Marks2\n",
       "0    Nikita        A    90.0    91.0\n",
       "1    Jayant        A   100.0    10.0\n",
       "2      Pisu        B     NaN    81.0\n",
       "3    Hritik        C    86.0     2.0\n",
       "4      isha        D    92.0    20.0\n",
       "5  Aakansha        C    12.0     NaN"
      ]
     },
     "execution_count": 5,
     "metadata": {},
     "output_type": "execute_result"
    }
   ],
   "source": [
    "data"
   ]
  },
  {
   "cell_type": "code",
   "execution_count": 6,
   "id": "90a13d23-fa36-4680-94c2-6e2b1da65928",
   "metadata": {},
   "outputs": [
    {
     "data": {
      "text/plain": [
       "dict_keys(['Name', 'Division', 'Marks1', 'Marks2'])"
      ]
     },
     "execution_count": 6,
     "metadata": {},
     "output_type": "execute_result"
    }
   ],
   "source": [
    "d1.keys()"
   ]
  },
  {
   "cell_type": "code",
   "execution_count": 7,
   "id": "192d326d-d8e3-4806-9058-52966405a6ab",
   "metadata": {},
   "outputs": [
    {
     "data": {
      "text/plain": [
       "<bound method DataFrame.info of        Name Division  Marks1  Marks2\n",
       "0    Nikita        A    90.0    91.0\n",
       "1    Jayant        A   100.0    10.0\n",
       "2      Pisu        B     NaN    81.0\n",
       "3    Hritik        C    86.0     2.0\n",
       "4      isha        D    92.0    20.0\n",
       "5  Aakansha        C    12.0     NaN>"
      ]
     },
     "execution_count": 7,
     "metadata": {},
     "output_type": "execute_result"
    }
   ],
   "source": [
    "data.info"
   ]
  },
  {
   "cell_type": "code",
   "execution_count": 8,
   "id": "49c584f0-92c0-4fb7-990c-40a638146d45",
   "metadata": {},
   "outputs": [
    {
     "data": {
      "text/html": [
       "<div>\n",
       "<style scoped>\n",
       "    .dataframe tbody tr th:only-of-type {\n",
       "        vertical-align: middle;\n",
       "    }\n",
       "\n",
       "    .dataframe tbody tr th {\n",
       "        vertical-align: top;\n",
       "    }\n",
       "\n",
       "    .dataframe thead th {\n",
       "        text-align: right;\n",
       "    }\n",
       "</style>\n",
       "<table border=\"1\" class=\"dataframe\">\n",
       "  <thead>\n",
       "    <tr style=\"text-align: right;\">\n",
       "      <th></th>\n",
       "      <th>Marks1</th>\n",
       "      <th>Marks2</th>\n",
       "    </tr>\n",
       "  </thead>\n",
       "  <tbody>\n",
       "    <tr>\n",
       "      <th>count</th>\n",
       "      <td>5.000000</td>\n",
       "      <td>5.000000</td>\n",
       "    </tr>\n",
       "    <tr>\n",
       "      <th>mean</th>\n",
       "      <td>76.000000</td>\n",
       "      <td>40.800000</td>\n",
       "    </tr>\n",
       "    <tr>\n",
       "      <th>std</th>\n",
       "      <td>36.138622</td>\n",
       "      <td>41.901074</td>\n",
       "    </tr>\n",
       "    <tr>\n",
       "      <th>min</th>\n",
       "      <td>12.000000</td>\n",
       "      <td>2.000000</td>\n",
       "    </tr>\n",
       "    <tr>\n",
       "      <th>25%</th>\n",
       "      <td>86.000000</td>\n",
       "      <td>10.000000</td>\n",
       "    </tr>\n",
       "    <tr>\n",
       "      <th>50%</th>\n",
       "      <td>90.000000</td>\n",
       "      <td>20.000000</td>\n",
       "    </tr>\n",
       "    <tr>\n",
       "      <th>75%</th>\n",
       "      <td>92.000000</td>\n",
       "      <td>81.000000</td>\n",
       "    </tr>\n",
       "    <tr>\n",
       "      <th>max</th>\n",
       "      <td>100.000000</td>\n",
       "      <td>91.000000</td>\n",
       "    </tr>\n",
       "  </tbody>\n",
       "</table>\n",
       "</div>"
      ],
      "text/plain": [
       "           Marks1     Marks2\n",
       "count    5.000000   5.000000\n",
       "mean    76.000000  40.800000\n",
       "std     36.138622  41.901074\n",
       "min     12.000000   2.000000\n",
       "25%     86.000000  10.000000\n",
       "50%     90.000000  20.000000\n",
       "75%     92.000000  81.000000\n",
       "max    100.000000  91.000000"
      ]
     },
     "execution_count": 8,
     "metadata": {},
     "output_type": "execute_result"
    }
   ],
   "source": [
    "data.describe()"
   ]
  },
  {
   "cell_type": "code",
   "execution_count": 9,
   "id": "399e3449-a72f-47b1-b0d8-96f55bc55715",
   "metadata": {},
   "outputs": [
    {
     "data": {
      "text/plain": [
       "(6, 4)"
      ]
     },
     "execution_count": 9,
     "metadata": {},
     "output_type": "execute_result"
    }
   ],
   "source": [
    "data.shape"
   ]
  },
  {
   "cell_type": "code",
   "execution_count": 10,
   "id": "1e6661ef-4ee7-4cb1-bf0c-37236b6c3427",
   "metadata": {},
   "outputs": [
    {
     "data": {
      "text/plain": [
       "Name        0\n",
       "Division    0\n",
       "Marks1      1\n",
       "Marks2      1\n",
       "dtype: int64"
      ]
     },
     "execution_count": 10,
     "metadata": {},
     "output_type": "execute_result"
    }
   ],
   "source": [
    "data.isna().sum()"
   ]
  },
  {
   "cell_type": "code",
   "execution_count": 11,
   "id": "008464d6-44d3-454f-b351-31ecd9973154",
   "metadata": {},
   "outputs": [],
   "source": [
    "data[\"Marks1\"]=data[\"Marks1\"].fillna(data[\"Marks1\"].mean())"
   ]
  },
  {
   "cell_type": "code",
   "execution_count": 12,
   "id": "de9b4f9f-0fd5-45bd-80c4-a540500837de",
   "metadata": {},
   "outputs": [
    {
     "data": {
      "text/html": [
       "<div>\n",
       "<style scoped>\n",
       "    .dataframe tbody tr th:only-of-type {\n",
       "        vertical-align: middle;\n",
       "    }\n",
       "\n",
       "    .dataframe tbody tr th {\n",
       "        vertical-align: top;\n",
       "    }\n",
       "\n",
       "    .dataframe thead th {\n",
       "        text-align: right;\n",
       "    }\n",
       "</style>\n",
       "<table border=\"1\" class=\"dataframe\">\n",
       "  <thead>\n",
       "    <tr style=\"text-align: right;\">\n",
       "      <th></th>\n",
       "      <th>Name</th>\n",
       "      <th>Division</th>\n",
       "      <th>Marks1</th>\n",
       "      <th>Marks2</th>\n",
       "    </tr>\n",
       "  </thead>\n",
       "  <tbody>\n",
       "    <tr>\n",
       "      <th>0</th>\n",
       "      <td>Nikita</td>\n",
       "      <td>A</td>\n",
       "      <td>90.0</td>\n",
       "      <td>91.0</td>\n",
       "    </tr>\n",
       "    <tr>\n",
       "      <th>1</th>\n",
       "      <td>Jayant</td>\n",
       "      <td>A</td>\n",
       "      <td>100.0</td>\n",
       "      <td>10.0</td>\n",
       "    </tr>\n",
       "    <tr>\n",
       "      <th>2</th>\n",
       "      <td>Pisu</td>\n",
       "      <td>B</td>\n",
       "      <td>76.0</td>\n",
       "      <td>81.0</td>\n",
       "    </tr>\n",
       "    <tr>\n",
       "      <th>3</th>\n",
       "      <td>Hritik</td>\n",
       "      <td>C</td>\n",
       "      <td>86.0</td>\n",
       "      <td>2.0</td>\n",
       "    </tr>\n",
       "    <tr>\n",
       "      <th>4</th>\n",
       "      <td>isha</td>\n",
       "      <td>D</td>\n",
       "      <td>92.0</td>\n",
       "      <td>20.0</td>\n",
       "    </tr>\n",
       "    <tr>\n",
       "      <th>5</th>\n",
       "      <td>Aakansha</td>\n",
       "      <td>C</td>\n",
       "      <td>12.0</td>\n",
       "      <td>NaN</td>\n",
       "    </tr>\n",
       "  </tbody>\n",
       "</table>\n",
       "</div>"
      ],
      "text/plain": [
       "       Name Division  Marks1  Marks2\n",
       "0    Nikita        A    90.0    91.0\n",
       "1    Jayant        A   100.0    10.0\n",
       "2      Pisu        B    76.0    81.0\n",
       "3    Hritik        C    86.0     2.0\n",
       "4      isha        D    92.0    20.0\n",
       "5  Aakansha        C    12.0     NaN"
      ]
     },
     "execution_count": 12,
     "metadata": {},
     "output_type": "execute_result"
    }
   ],
   "source": [
    "data"
   ]
  },
  {
   "cell_type": "code",
   "execution_count": 14,
   "id": "06f3bbcd-e70e-45ee-8b36-d7f4b484cc50",
   "metadata": {},
   "outputs": [],
   "source": [
    "data[\"Marks2\"]=data[\"Marks2\"].fillna(data[\"Marks2\"].mean())"
   ]
  },
  {
   "cell_type": "code",
   "execution_count": 15,
   "id": "1018f6bc-a089-4904-a6d0-d16f41ccc075",
   "metadata": {},
   "outputs": [
    {
     "data": {
      "text/html": [
       "<div>\n",
       "<style scoped>\n",
       "    .dataframe tbody tr th:only-of-type {\n",
       "        vertical-align: middle;\n",
       "    }\n",
       "\n",
       "    .dataframe tbody tr th {\n",
       "        vertical-align: top;\n",
       "    }\n",
       "\n",
       "    .dataframe thead th {\n",
       "        text-align: right;\n",
       "    }\n",
       "</style>\n",
       "<table border=\"1\" class=\"dataframe\">\n",
       "  <thead>\n",
       "    <tr style=\"text-align: right;\">\n",
       "      <th></th>\n",
       "      <th>Name</th>\n",
       "      <th>Division</th>\n",
       "      <th>Marks1</th>\n",
       "      <th>Marks2</th>\n",
       "    </tr>\n",
       "  </thead>\n",
       "  <tbody>\n",
       "    <tr>\n",
       "      <th>0</th>\n",
       "      <td>Nikita</td>\n",
       "      <td>A</td>\n",
       "      <td>90.0</td>\n",
       "      <td>91.0</td>\n",
       "    </tr>\n",
       "    <tr>\n",
       "      <th>1</th>\n",
       "      <td>Jayant</td>\n",
       "      <td>A</td>\n",
       "      <td>100.0</td>\n",
       "      <td>10.0</td>\n",
       "    </tr>\n",
       "    <tr>\n",
       "      <th>2</th>\n",
       "      <td>Pisu</td>\n",
       "      <td>B</td>\n",
       "      <td>76.0</td>\n",
       "      <td>81.0</td>\n",
       "    </tr>\n",
       "    <tr>\n",
       "      <th>3</th>\n",
       "      <td>Hritik</td>\n",
       "      <td>C</td>\n",
       "      <td>86.0</td>\n",
       "      <td>2.0</td>\n",
       "    </tr>\n",
       "    <tr>\n",
       "      <th>4</th>\n",
       "      <td>isha</td>\n",
       "      <td>D</td>\n",
       "      <td>92.0</td>\n",
       "      <td>20.0</td>\n",
       "    </tr>\n",
       "    <tr>\n",
       "      <th>5</th>\n",
       "      <td>Aakansha</td>\n",
       "      <td>C</td>\n",
       "      <td>12.0</td>\n",
       "      <td>40.8</td>\n",
       "    </tr>\n",
       "  </tbody>\n",
       "</table>\n",
       "</div>"
      ],
      "text/plain": [
       "       Name Division  Marks1  Marks2\n",
       "0    Nikita        A    90.0    91.0\n",
       "1    Jayant        A   100.0    10.0\n",
       "2      Pisu        B    76.0    81.0\n",
       "3    Hritik        C    86.0     2.0\n",
       "4      isha        D    92.0    20.0\n",
       "5  Aakansha        C    12.0    40.8"
      ]
     },
     "execution_count": 15,
     "metadata": {},
     "output_type": "execute_result"
    }
   ],
   "source": [
    "data"
   ]
  },
  {
   "cell_type": "code",
   "execution_count": 17,
   "id": "301f00ee-327f-4abc-b223-bc0725e872d3",
   "metadata": {},
   "outputs": [
    {
     "data": {
      "text/plain": [
       "<Axes: xlabel='Marks1'>"
      ]
     },
     "execution_count": 17,
     "metadata": {},
     "output_type": "execute_result"
    },
    {
     "data": {
      "image/png": "[encoded data removed]",
      "text/plain": [
       "<Figure size 640x480 with 1 Axes>"
      ]
     },
     "metadata": {},
     "output_type": "display_data"
    }
   ],
   "source": [
    "sns.boxplot(data=data,x=\"Marks1\")"
   ]
  },
  {
   "cell_type": "code",
   "execution_count": 18,
   "id": "efcfd100-2677-4956-9040-2ff26fa3bfad",
   "metadata": {},
   "outputs": [
    {
     "data": {
      "text/plain": [
       "<Axes: xlabel='Marks2'>"
      ]
     },
     "execution_count": 18,
     "metadata": {},
     "output_type": "execute_result"
    },
    {
     "data": {
      "image/png": "[encoded data removed]",
      "text/plain": [
       "<Figure size 640x480 with 1 Axes>"
      ]
     },
     "metadata": {},
     "output_type": "display_data"
    }
   ],
   "source": [
    "sns.boxplot(data=data,x=\"Marks2\")"
   ]
  },
  {
   "cell_type": "code",
   "execution_count": 37,
   "id": "c138d5ba-ece6-4e3c-9985-4686a3372c59",
   "metadata": {},
   "outputs": [],
   "source": [
    "def detect_outlier(d):\n",
    "    q1=d.quantile(0.25)\n",
    "    q3=d.quantile(0.75)\n",
    "    iqr=q3-q1\n",
    "    lower_bound=q1-1.5*iqr\n",
    "    upper_bound=q3+1.5*iqr\n",
    "    outliers=d[(d<lower_bound)|(d>upper_bound)]\n",
    "    return outliers\n",
    "    "
   ]
  },
  {
   "cell_type": "code",
   "execution_count": 38,
   "id": "71da6df9-ebb7-4db0-8111-8ed2e15b5f6e",
   "metadata": {},
   "outputs": [],
   "source": [
    "def detect_outliers_iqr(data):\n",
    "    Q1 = data.quantile(0.25)\n",
    "    Q3 = data.quantile(0.75)\n",
    "\n",
    "    IQR = Q3 - Q1\n",
    "    # print(Q1,Q3,IQR)\n",
    "    lower_bound = Q1 - 1.5 * IQR\n",
    "    upper_bound = Q3 + 1.5 * IQR\n",
    "    outliers = data[(data < lower_bound) | (data > upper_bound)]\n",
    "    return outliers"
   ]
  },
  {
   "cell_type": "code",
   "execution_count": 39,
   "id": "eeb80dac-ae56-435a-8c3f-05c94edb40f9",
   "metadata": {},
   "outputs": [
    {
     "data": {
      "text/plain": [
       "5    12.0\n",
       "Name: Marks1, dtype: float64"
      ]
     },
     "execution_count": 39,
     "metadata": {},
     "output_type": "execute_result"
    }
   ],
   "source": [
    "o=detect_outlier(data[\"Marks1\"])\n",
    "o"
   ]
  },
  {
   "cell_type": "code",
   "execution_count": 44,
   "id": "a4aa9909-9bf6-4aff-a6c4-65353240bd65",
   "metadata": {},
   "outputs": [],
   "source": [
    "data=data[~data[\"Marks1\"].isin(o)]"
   ]
  },
  {
   "cell_type": "code",
   "execution_count": 46,
   "id": "79ccfa9d-8bc9-4a30-af1e-aa829367736e",
   "metadata": {},
   "outputs": [
    {
     "data": {
      "text/plain": [
       "<Axes: xlabel='Marks1'>"
      ]
     },
     "execution_count": 46,
     "metadata": {},
     "output_type": "execute_result"
    },
    {
     "data": {
      "image/png": "[encoded data removed]",
      "text/plain": [
       "<Figure size 640x480 with 1 Axes>"
      ]
     },
     "metadata": {},
     "output_type": "display_data"
    }
   ],
   "source": [
    "data\n",
    "sns.boxplot(data=data,x=\"Marks1\")"
   ]
  },
  {
   "cell_type": "code",
   "execution_count": null,
   "id": "730f91df-107b-43ff-a073-6df98f5997fe",
   "metadata": {},
   "outputs": [],
   "source": []
  }
 ],
 "metadata": {
  "kernelspec": {
   "display_name": "Python 3 (ipykernel)",
   "language": "python",
   "name": "python3"
  },
  "language_info": {
   "codemirror_mode": {
    "name": "ipython",
    "version": 3
   },
   "file_extension": ".py",
   "mimetype": "text/x-python",
   "name": "python",
   "nbconvert_exporter": "python",
   "pygments_lexer": "ipython3",
   "version": "3.10.6"
  }
 },
 "nbformat": 4,
 "nbformat_minor": 5
}
